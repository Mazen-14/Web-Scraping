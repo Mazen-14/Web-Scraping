{
 "cells": [
  {
   "cell_type": "code",
   "execution_count": 147,
   "metadata": {},
   "outputs": [],
   "source": [
    "import requests\n",
    "import csv\n",
    "from bs4 import BeautifulSoup\n",
    "import json\n"
   ]
  },
  {
   "cell_type": "code",
   "execution_count": 148,
   "metadata": {},
   "outputs": [],
   "source": [
    "url = \"https://www.baraasallout.com/test.html\"\n",
    "response = requests.get(url)\n",
    "soup = BeautifulSoup(response.content , \"html.parser\")\n"
   ]
  },
  {
   "cell_type": "markdown",
   "metadata": {},
   "source": [
    "# 1"
   ]
  },
  {
   "cell_type": "code",
   "execution_count": 149,
   "metadata": {},
   "outputs": [],
   "source": [
    "header = soup.find_all([\"h1\",\"h2\",\"h3\"])\n",
    "P = soup.find_all([\"p\"])\n",
    "L = soup.find_all(['li'])"
   ]
  },
  {
   "cell_type": "code",
   "execution_count": 150,
   "metadata": {},
   "outputs": [],
   "source": [
    "with open('table_data.csv', 'w', encoding='UTF8') as f:\n",
    "    writer = csv.writer(f)\n",
    "    writer.writerow(['Type','Content'])\n",
    "    for i in header :\n",
    "        writer.writerow(['Heading',i.text.strip()])\n",
    "    for i in P :\n",
    "        writer.writerow(['Paragraph',i.text.strip()])\n",
    "    for i in L :\n",
    "        writer.writerow(['List',i.text.strip()])"
   ]
  },
  {
   "cell_type": "markdown",
   "metadata": {},
   "source": [
    "# 2"
   ]
  },
  {
   "cell_type": "code",
   "execution_count": 151,
   "metadata": {},
   "outputs": [],
   "source": [
    "TH = soup.find_all(['th'])\n",
    "TD = soup.find_all(['td'])\n",
    "TH = [i.text.strip() for i in TH]\n",
    "TD = [i.text.strip() for i in TD]\n",
    "TD1 = TD[:3]\n",
    "TD2 = TD[3:6]\n",
    "TD3 = TD[6:]\n",
    "\n"
   ]
  },
  {
   "cell_type": "code",
   "execution_count": 152,
   "metadata": {},
   "outputs": [],
   "source": [
    "with open('table.csv', 'w', encoding='UTF8') as f:\n",
    "    writer = csv.writer(f)\n",
    "    writer.writerow(TH)\n",
    "    writer.writerow(TD1)\n",
    "    writer.writerow(TD2)\n",
    "    writer.writerow(TD3)\n",
    "        "
   ]
  },
  {
   "cell_type": "markdown",
   "metadata": {},
   "source": [
    "# 3"
   ]
  },
  {
   "cell_type": "code",
   "execution_count": 203,
   "metadata": {},
   "outputs": [],
   "source": [
    "product_information = soup.find_all('div',style=\"text-align: center; width: 200px; border: 1px solid #ddd; padding: 10px; border-radius: 5px;\")\n",
    "\n",
    "s = []\n",
    "for i in product_information:\n",
    "    strong = i.find('strong').text.strip()\n",
    "    price = i.find_all('p', style='color: green;')[0].text.strip()\n",
    "    stock = i.find_all('p', style='color: green;')[1].text.strip()\n",
    "    button = i.find('button').text.strip()\n",
    "    s.append({\n",
    "            \"Book Title\": strong,\"Price\": price,\"Stock Availability\": stock,\"Button text\": button\n",
    "        })"
   ]
  },
  {
   "cell_type": "code",
   "execution_count": 204,
   "metadata": {},
   "outputs": [],
   "source": [
    "with open(\"productinformation.json\", \"w\") as outfile: \n",
    "    json.dump(s, outfile)"
   ]
  },
  {
   "cell_type": "markdown",
   "metadata": {},
   "source": [
    "# 4"
   ]
  },
  {
   "cell_type": "code",
   "execution_count": 206,
   "metadata": {},
   "outputs": [],
   "source": [
    "form = soup.find('form')\n",
    "input = form.find_all('input')\n",
    "\n",
    "inp = []\n",
    "for i in input:\n",
    "    field_name = i.get('name')\n",
    "    input_type = i.get('type')\n",
    "    default_value = i.get('value')\n",
    "    place_holder = i.get('placeholder')\n",
    "    inp.append({\n",
    "            \"Field Name\": field_name,\"Input Type\": input_type,\"Default Value\": default_value,\"place_holder\": place_holder\n",
    "        })"
   ]
  },
  {
   "cell_type": "code",
   "execution_count": 168,
   "metadata": {},
   "outputs": [],
   "source": [
    "with open(\"input.json\", \"w\") as outfile: \n",
    "    json.dump(inp, outfile)"
   ]
  },
  {
   "cell_type": "markdown",
   "metadata": {},
   "source": [
    "# 5"
   ]
  },
  {
   "cell_type": "code",
   "execution_count": 159,
   "metadata": {},
   "outputs": [],
   "source": [
    "iframe = soup.find_all('iframe')\n",
    "a = soup.find_all('a')\n",
    "\n",
    "hyper_link = []\n",
    "for i in a :\n",
    "    h = i.get('href')\n",
    "    hyper_link.append({\n",
    "        \"a tag link\": h\n",
    "    })\n",
    "\n",
    "link = []\n",
    "for i in iframe :\n",
    "    l = i.get('src')\n",
    "    link.append({\n",
    "        \"iframe link\": l\n",
    "    })\n",
    "    \n",
    "all = []\n",
    "all.append({\n",
    "    \"Hyperlink\": hyper_link,\n",
    "    \"Video Link\": link\n",
    "})\n",
    "\n",
    "\n"
   ]
  },
  {
   "cell_type": "code",
   "execution_count": 167,
   "metadata": {},
   "outputs": [],
   "source": [
    "with open(\"link.json\", \"w\") as outfile: \n",
    "    json.dump(all, outfile)"
   ]
  },
  {
   "cell_type": "markdown",
   "metadata": {},
   "source": [
    "# 6"
   ]
  },
  {
   "cell_type": "code",
   "execution_count": 164,
   "metadata": {},
   "outputs": [],
   "source": [
    "cards = soup.find_all('div', class_='product-card') \n",
    "\n",
    "p = []\n",
    "for card in cards:\n",
    "    id = card.get('data-id')\n",
    "    name = card.find('p', class_='name').text.strip()  \n",
    "    price = card.find('p', class_='price').text.strip()  \n",
    "    color = card.find('p', class_='colors').text.strip()  \n",
    "    p.append({\n",
    "            \"id\": id,\"name\": name,\"price\": price,\"colors\": color\n",
    "        })"
   ]
  },
  {
   "cell_type": "code",
   "execution_count": 166,
   "metadata": {},
   "outputs": [],
   "source": [
    "with open(\"featuredproduct.json\", \"w\") as outfile: \n",
    "    json.dump(p, outfile)"
   ]
  }
 ],
 "metadata": {
  "kernelspec": {
   "display_name": "Python 3",
   "language": "python",
   "name": "python3"
  },
  "language_info": {
   "codemirror_mode": {
    "name": "ipython",
    "version": 3
   },
   "file_extension": ".py",
   "mimetype": "text/x-python",
   "name": "python",
   "nbconvert_exporter": "python",
   "pygments_lexer": "ipython3",
   "version": "3.12.6"
  }
 },
 "nbformat": 4,
 "nbformat_minor": 2
}
